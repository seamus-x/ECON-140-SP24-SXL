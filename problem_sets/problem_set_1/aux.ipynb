{
 "cells": [
  {
   "attachments": {},
   "cell_type": "markdown",
   "metadata": {},
   "source": [
    "In this cell, please type your name and SID"
   ]
  },
  {
   "attachments": {},
   "cell_type": "markdown",
   "metadata": {},
   "source": [
    "# ECON 140 - Problem Set 2\n",
    "\n",
    "## INSTRUCTIONS\n",
    "\n",
    "* Please step through this tutorial, copy and paste the code, and run it to produce output.\n",
    "* Make sure to write some sentences at the end in response to the non-coding questions.\n",
    "* When done, go to \"File: Download As: PDF via LaTeX\" or something similar like \"File: Save and Export Notebook As: PDF.\" Upload the saved PDF file to Gradescope.\n",
    "\n",
    "You will earn 100% of the credit on this problem set for <b>completing</b> it by due date provided that you perform the tasks as requested and the codes return no error. Late submissions are accepted until 10/22/2023 and receives only half points."
   ]
  },
  {
   "attachments": {},
   "cell_type": "markdown",
   "metadata": {},
   "source": [
    "## Functions in `R`\n",
    "\n",
    "We have encountered quite a few functions in `R` that are useful in a wide range of different situations, eg. `for()`, `runif()`, and `lm()`. We have discussed during lecture that, with some exceptions (notably many arithmetic functions), functions in `R` typically takes on the form of a function name followed immediately by a set of parenthesis in which arguments are entered, *e.g.* `runif(100, -10, 10)` returns a vector 100 random numbers generated from a uniform distribution with support [-10, 10].\n",
    "\n",
    "To access a function from an installed package without loading the package into your R environment, you can call the funciton directly by using the `package_name::function_name()` construction. For example, in order to use the `read_dta()` function from the `haven` package, as you did from the previous problem set, you can simply type `haven::read_dta()` instead of first loading `haven` into the environment by executing `library(haven)`. This can be very useful when you only need a couple functions from a certain package, especially if loading such a package would mask other functions, meaning that the package contains functions with the same names as functions from base `R` or another package.\n",
    "\n",
    "In addition, you can make your own custom functions by using the `function()` function. Custom functions are one of the most important, useful, and powerful tools of most programming languages, as it allows repeating complex operations with different inputs by shorthanding the operation into just one command. The basic syntax of making a custom function in `R` is as follows:\n",
    "\n",
    "```R\n",
    "myfun <- function(arg1, arg2 = 0, ...){\n",
    "    result <- ...\n",
    "    return(result)\n",
    "}\n",
    "```\n",
    "where `myfun` is the name of the custom function, `arg1`, *etc.*, are the arguments that go into the function with any assigned value being the default (*e.g.* 0 being the default for `arg2`), and `result` being the value that is returned by the custom function. Consider the following example custom function that takes 3 arguments, `x`, `y`, and `z` with the default value of 1, and returns $(x+y)^z$:\n",
    "```R\n",
    "myfun <- function(x, y, z = 1){\n",
    "    result <- (x + y)^z\n",
    "    return(result)\n",
    "}\n",
    "myfun(1, 2) # (1 + 2)^1\n",
    "myfun(1, 2, 3) # (1 + 2)^3\n",
    "```\n",
    "Copy and paste the code above into the code block below and run it"
   ]
  },
  {
   "cell_type": "code",
   "execution_count": null,
   "metadata": {
    "vscode": {
     "languageId": "r"
    }
   },
   "outputs": [],
   "source": []
  },
  {
   "cell_type": "markdown",
   "metadata": {},
   "source": [
    "Try the above code in the code block below and you should see exactly the same result.\n",
    "\n",
    "For simple functions like this that require just one step, we can simply rewrite it as follows without storing the result in the `result` variable and calling it at the end. The key here is that the last line of the function (in this case, the only line) outputs the result that we are interested in.\n",
    "```R\n",
    "myfun <- function(x, y, z = 1) (x + y)^z\n",
    "myfun(1, 2) \n",
    "myfun(1, 2, 3)\n",
    "```"
   ]
  },
  {
   "cell_type": "code",
   "execution_count": null,
   "metadata": {
    "vscode": {
     "languageId": "r"
    }
   },
   "outputs": [],
   "source": []
  },
  {
   "cell_type": "markdown",
   "metadata": {},
   "source": [
    "Now, complete the following code block to produce a function with the name my1stfun that takes 3 numerical arguments and returns of the sum of the squared values of each argument, *i.e.* $x^2+y^2+z^2$, then test your function with the numbers 1, -1, and 2."
   ]
  },
  {
   "cell_type": "code",
   "execution_count": null,
   "metadata": {
    "vscode": {
     "languageId": "r"
    }
   },
   "outputs": [],
   "source": [
    "my1stfun <- function(          ){\n",
    "    result <-\n",
    "    return(result)\n",
    "}\n",
    "my1stfun(            )"
   ]
  },
  {
   "cell_type": "markdown",
   "metadata": {},
   "source": [
    "Note that variables defined within a function, such as `result` in our example, cannot be accessed from outside of a function, so your environment will not be left with a variable named `result` after you define or use the function. However, the function can access variables from your environment, although if you make changes to it inside the function, it will not change that variable outside the function. Run the following code for an example"
   ]
  },
  {
   "cell_type": "code",
   "execution_count": null,
   "metadata": {
    "vscode": {
     "languageId": "r"
    }
   },
   "outputs": [],
   "source": [
    "myvar <- 10\n",
    "my2ndfun <- function(){\n",
    "    myvar <- myvar + 1\n",
    "    return(myvar)\n",
    "}\n",
    "my2ndfun() # this should return 11\n",
    "myvar # this should still return 10 even though myvar changed to 11 inside the function"
   ]
  },
  {
   "cell_type": "markdown",
   "metadata": {},
   "source": [
    "As you can see, this can easily lead to confusion if you can't keep track of your variable names. The best practice, therefore, would be to use unique variable names and, if your function requires a value from the outside environment, code it as an explicit argument of the function, such as follows (run to verify)"
   ]
  },
  {
   "cell_type": "code",
   "execution_count": null,
   "metadata": {
    "vscode": {
     "languageId": "r"
    }
   },
   "outputs": [],
   "source": [
    "myvar <- 10\n",
    "my2ndfun <- function(x){\n",
    "    result <- x + 1\n",
    "    return(result)\n",
    "}\n",
    "my2ndfun(myvar)"
   ]
  },
  {
   "cell_type": "markdown",
   "metadata": {},
   "source": [
    "\n",
    "## Control Flow in `R`\n",
    "\n",
    "Control flow refers to the orders and conditions by which a computer program executes its commands and subroutines. In `R`, control flow can be achieved via *loops* and *conditionals*, among other methods. In this exercise, we will discuss the `for()` loop, the `while()` loop, and the `if()` conditional in `R`.\n",
    "\n",
    "### `for` loop\n",
    "\n",
    "In computer languages, there are usually two types of `for` loop: repeating an action a certain number of times, or repeating an action for each item from a list (also known as a `foreach` loop). In `R`, both types can be accomplished using the `for()` function, of which we have seen a couple of examples in class. The general construction of a `for()` loop in `R` is as follows:\n",
    "```R\n",
    "for(each_value in list_of_values){\n",
    "    do(each_value)\n",
    "}\n",
    "```\n",
    "Copy and paste the following code into the next code block and run it for an example that prints the same message 10 times:\n",
    "```R\n",
    "for(iter in 1:10){\n",
    "    print(\"This is the output of an iteration of a for loop.\")\n",
    "}\n",
    "```"
   ]
  },
  {
   "cell_type": "code",
   "execution_count": null,
   "metadata": {
    "vscode": {
     "languageId": "r"
    }
   },
   "outputs": [],
   "source": []
  },
  {
   "cell_type": "markdown",
   "metadata": {},
   "source": [
    "Copy and paste the following code into the next code block and run it for an example that prints the same message 10 times, but each time with a reference to which iteration it's on:\n",
    "```R\n",
    "for(iter in 1:10){\n",
    "    mymessage <- paste(\"This is the output of iteration\", iter, \"of a for loop.\") #type help(paste) to see more about the paste() function\n",
    "    print(mymessage)\n",
    "}\n",
    "```"
   ]
  },
  {
   "cell_type": "code",
   "execution_count": null,
   "metadata": {
    "vscode": {
     "languageId": "r"
    }
   },
   "outputs": [],
   "source": []
  },
  {
   "cell_type": "markdown",
   "metadata": {},
   "source": [
    "Copy and paste the following code into the next code block and run it for an example that prints each value from a list of strings. This would be how a `foreach` loop is implemented in `R`.\n",
    "```R\n",
    "some_names <- c(\"Madison\", \"Sydney\", \"Dana\")\n",
    "for(a_name in some_names){\n",
    "    print(a_name)\n",
    "}\n",
    "```"
   ]
  },
  {
   "cell_type": "code",
   "execution_count": null,
   "metadata": {
    "vscode": {
     "languageId": "r"
    }
   },
   "outputs": [],
   "source": []
  },
  {
   "cell_type": "markdown",
   "metadata": {},
   "source": [
    "Copy and paste the following code into the next code block and run it for an example that prints each value from a list of strings, but coded differently utilizing indexing syntax\n",
    "```R\n",
    "some_names <- c(\"Madison\", \"Sydney\", \"Dana\")\n",
    "for(index in 1:length(some_names)){\n",
    "    print(some_names[index])\n",
    "}\n",
    "```"
   ]
  },
  {
   "cell_type": "code",
   "execution_count": null,
   "metadata": {
    "vscode": {
     "languageId": "r"
    }
   },
   "outputs": [],
   "source": []
  },
  {
   "cell_type": "markdown",
   "metadata": {},
   "source": [
    "Copy and paste the following code into the next code block and run it for an example of a `for` loop in which each iteration depends on the result of the previous iteration:\n",
    "```R\n",
    "counter <- 0\n",
    "number <- 0\n",
    "iterations <- 1000\n",
    "serial <- rep(0, iterations)\n",
    "for(iter in 1:iterations){\n",
    "  counter <- counter + 1\n",
    "  number <- number + rnorm(1)\n",
    "  serial[iter] <- number\n",
    "}\n",
    "plot(serial)\n",
    "lines(serial)\n",
    "```"
   ]
  },
  {
   "cell_type": "code",
   "execution_count": null,
   "metadata": {
    "vscode": {
     "languageId": "r"
    }
   },
   "outputs": [],
   "source": []
  },
  {
   "cell_type": "markdown",
   "metadata": {},
   "source": [
    "Run the code above several times and look at the results. These are be what a [random walk](https://en.wikipedia.org/wiki/Random_walk) time series could potentially look like."
   ]
  },
  {
   "cell_type": "markdown",
   "metadata": {},
   "source": [
    "As you can see, `for` loop is an incredibly versatile tool that has many applications. Beware, however, as it is one of the most overused programming tools, especially for beginners, as it is tempting to use a `for` loop to create or repeat operations on multiple values. For example, you might be tempted to produce a sequence of numbers, such as ${1, 2, 3, ...}$ or ${0, 0.1, 0.2, 0.3 ...}$ using a `for` loop when it can be easily, and much more computationally efficiently, using\n",
    "```R\n",
    "vec1 <- 1:100 #creates {0, 1, 2, ..., 100}\n",
    "vec2 <- seq(0, 1, 0.1) #creates {0, 0.1, 0.2, ..., 1}\n",
    "``` \n",
    "Similarly, for repeated operations on every element of a vector, list, matrix, table, or another form of array, many functions are able to handle the entire array as an input and apply the operation to each element. For example,\n",
    "```R\n",
    "vec3 <- 1:10\n",
    "vec3^2 #already returns a vector with each element of 1:10 squared\n",
    "```\n",
    "Otherwise, consider the `apply` class of functions (`apply`, `lapply`, `sapply`, `mapply`, *etc.* in conjunction with `function()` when applying complex operations to an array of values), as `for` loop can be computationally cumbersome and slow compared to these alternatives.\n",
    "\n",
    "That said, `for` loops are indispensable in many areas of econometrics, data science, and scientific computing, such as in Monte Carlo simulation and iterative computational methods. With the advent of parallelism and high-performance computing, where several to many of a computer's cores are used simultaneously, `for` loops are also run many instances of repeated tasks simultaneously "
   ]
  },
  {
   "cell_type": "markdown",
   "metadata": {},
   "source": [
    "### `while` loop\n",
    "\n",
    "The `while` loop repeats an action until specified conditions are no longer satisfied. The following example starts with `n = 1` and adds 1 to `n` repeatedly, prints the value of `n`, until `n` is no longer less than 10:\n",
    "```R\n",
    "n <- 1\n",
    "while(n < 10){\n",
    "    cat('n is now equal to ', n, '\\n') #type help(cat) to see more about the cat() function\n",
    "    n <- n + 1\n",
    "}\n",
    "```\n",
    "Copy and paste the code into the code block below and run it to see the results:"
   ]
  },
  {
   "cell_type": "code",
   "execution_count": null,
   "metadata": {
    "vscode": {
     "languageId": "r"
    }
   },
   "outputs": [],
   "source": []
  },
  {
   "cell_type": "markdown",
   "metadata": {},
   "source": [
    "### `if` conditional\n",
    "\n",
    "Another way to execute lines based on conditions is through the `if` conditional. The `if()` function in `R` can be used to specify a condition under which certain commands are executes, or used in conjunction with `else` to specific commands to be executed on a case-to-case basis (known as `case` conditional in some programming languages).\n",
    "\n",
    "Copy and paste the following code into the code block below and run it several times to see an example of a simple `if...else` conditional:\n",
    "```R\n",
    "rand <- runif(1)\n",
    "rand\n",
    "if(rand > 0){\n",
    "    print(\"Positive\")\n",
    "}else{\n",
    "    print(\"Negative\")\n",
    "}\n",
    "```"
   ]
  },
  {
   "cell_type": "code",
   "execution_count": null,
   "metadata": {
    "vscode": {
     "languageId": "r"
    }
   },
   "outputs": [],
   "source": []
  },
  {
   "cell_type": "markdown",
   "metadata": {},
   "source": [
    "Copy and paste the following code into the code block below and run it several times to see an example of a simple `if...else if` conditional with 3 cases:\n",
    "```R\n",
    "rand <- runif(1)\n",
    "rand\n",
    "if(rand > 1){\n",
    "    print(\"Greater than 1 std greater than mean\")\n",
    "}else if(rand < -1){\n",
    "    print(\"Greater than 1 std less than mean\")\n",
    "}else{\n",
    "    print(\"Within 1 std from mean\")\n",
    "}\n",
    "```"
   ]
  },
  {
   "cell_type": "code",
   "execution_count": null,
   "metadata": {
    "vscode": {
     "languageId": "r"
    }
   },
   "outputs": [],
   "source": []
  },
  {
   "cell_type": "markdown",
   "metadata": {},
   "source": [
    "Control flow operations can be nested within each other. For example, we can use `if` conditional to print a warning to the `while` loop from above to let us know when the program is terminating. Copy and paste the following code into the code block below and run it to see an example:\n",
    "```R\n",
    "n <- 1\n",
    "while(n < 10){\n",
    "    cat('n is now equal to ', n, '\\n') #type help(cat) to see more about the cat() function\n",
    "    n <- n + 1\n",
    "    if(n >= 10) cat('n is now no longer less than 10, exiting program.\\n')\n",
    "}\n",
    "```"
   ]
  },
  {
   "cell_type": "code",
   "execution_count": null,
   "metadata": {
    "vscode": {
     "languageId": "r"
    }
   },
   "outputs": [],
   "source": []
  },
  {
   "cell_type": "markdown",
   "metadata": {},
   "source": [
    "*Tip*: string values, or texts, can be denoted by either single quote `'abc'` or double quote `\"abc\"`. However, the closing quote must match the opening quote, or `R` will continue to treat all trailing code as a string until it finds the next matching quote mark.\n",
    "\n",
    "### Boolean logic\n",
    "\n",
    "Boolean logic is the language of conditionals. Boolean values can be thought as binaries such as {0, 1} or {TRUE, FALSE}. In `R`, Boolean values take on either `TRUE` or `FALSE`; these are reserved symbols in `R` that cannot be used as variable or function names.\n",
    "\n",
    "Boolean logic is the backbone of many programming functions, including control flow and data manipulation. For example, when you use index syntax to filter data, the index produces a vector of Booleans then only retains the part of the data that are true. Run the following code to see:"
   ]
  },
  {
   "cell_type": "code",
   "execution_count": null,
   "metadata": {
    "vscode": {
     "languageId": "r"
    }
   },
   "outputs": [],
   "source": [
    "vec <- rnorm(10)\n",
    "bool <- vec > 0\n",
    "bool # see the list of TRUE and FALSE based on the condition above\n",
    "vec[bool]\n",
    "# yields the same result as\n",
    "vec[vec > 0]"
   ]
  },
  {
   "cell_type": "markdown",
   "metadata": {},
   "source": [
    "\n",
    "\n",
    "Boolean logic, for most intents and purposes, behaves the same as formal logic and is very similar to set theory. There are 4 basic Boolean operators, which are AND, OR, NOT, and XOR. A brief overview of the rules is given below:"
   ]
  },
  {
   "cell_type": "markdown",
   "metadata": {},
   "source": [
    "1. The AND operator is implemented as `&` in `R`. With two Booleans A and B, both must be `TRUE` for `A & B` to be also TRUE. All other cases of `A & B` return `FALSE`. AND is analogous to intersection in set theory. Run the following lines to see:"
   ]
  },
  {
   "cell_type": "code",
   "execution_count": null,
   "metadata": {
    "vscode": {
     "languageId": "r"
    }
   },
   "outputs": [],
   "source": [
    "TRUE & TRUE # returns TRUE\n",
    "TRUE & FALSE # returns FALSE\n",
    "FALSE & TRUE # returns FALSE\n",
    "FALSE & FALSE # returns FALSE"
   ]
  },
  {
   "cell_type": "markdown",
   "metadata": {},
   "source": [
    "\n",
    "2. The OR operator is implemented as `|` in `R`. With two Booleans A and B, `A | B` is `TRUE` as long as at least one of them is `TRUE`, otherwise it's `FALSE`. OR is analogous to union in set theory. Run the following lines to see:"
   ]
  },
  {
   "cell_type": "code",
   "execution_count": null,
   "metadata": {
    "vscode": {
     "languageId": "r"
    }
   },
   "outputs": [],
   "source": [
    "TRUE | TRUE # returns TRUE\n",
    "TRUE | FALSE # returns TRUE\n",
    "FALSE | TRUE # returns TRUE\n",
    "FALSE | FALSE # returns TRUE"
   ]
  },
  {
   "cell_type": "markdown",
   "metadata": {},
   "source": [
    "3. The NOT operator is implemented as `!` in `R` and returns the opposite Boolean for what it modifies. NOT is analogous to complement in set theory. Run the following lines to see:"
   ]
  },
  {
   "cell_type": "code",
   "execution_count": null,
   "metadata": {
    "vscode": {
     "languageId": "r"
    }
   },
   "outputs": [],
   "source": [
    "!TRUE # returns FALSE\n",
    "!FALSE # returns TRUE"
   ]
  },
  {
   "cell_type": "markdown",
   "metadata": {},
   "source": [
    "4. The XOR, or \"exclusive-OR,\" operator is implemented as function `xor()` in `R`. With two Booleans A and B, `xor(A, B)` returns `TRUE` only if A & B are opposite values. XOR is analogous to difference in set theory. Run the following lines to see:"
   ]
  },
  {
   "cell_type": "code",
   "execution_count": null,
   "metadata": {
    "vscode": {
     "languageId": "r"
    }
   },
   "outputs": [],
   "source": [
    "xor(TRUE, TRUE) # returns FALSE\n",
    "xor(TRUE, FALSE) # returns TRUE\n",
    "xor(FALSE, TRUE) # returns TRUE\n",
    "xor(FALSE, FALSE) # returns FALSE"
   ]
  },
  {
   "cell_type": "markdown",
   "metadata": {},
   "source": [
    "With Boolean operators, we can combine many individual conditions to produce complex conditions for data filtering and control flow. For example, the inequality condition $-1<x<1$ can be expressed as any of the following (run and see):\n"
   ]
  },
  {
   "cell_type": "code",
   "execution_count": null,
   "metadata": {
    "vscode": {
     "languageId": "r"
    }
   },
   "outputs": [],
   "source": [
    "x <- rnorm(1)\n",
    "# is x beteen -1 and 1?\n",
    "x\n",
    "x > -1 & x < 1\n",
    "!(x < -1 | x > 1)"
   ]
  },
  {
   "cell_type": "markdown",
   "metadata": {},
   "source": [
    "Put it in a loop (run and see)"
   ]
  },
  {
   "cell_type": "code",
   "execution_count": null,
   "metadata": {
    "vscode": {
     "languageId": "r"
    }
   },
   "outputs": [],
   "source": [
    "t <- 10\n",
    "\n",
    "for(i in 1:t){\n",
    "    x <- rnorm(1)\n",
    "    if(x > -1 & x < 1){\n",
    "        print(paste(\"x =\", x, \"is within 1 std\"))\n",
    "    }else{\n",
    "        print(paste(\"x =\", x, \"is outside 1 std\"))\n",
    "    }\n",
    "}"
   ]
  },
  {
   "cell_type": "markdown",
   "metadata": {},
   "source": [
    "Now it's your turn to create a small program. For this program, you will need to run 1000 iterations of the same process, each would draw a random number from a normal distribution characterized by $N(0,1)$ until you draw a number that is more than 2 standard deviations from the mean, *ie.* greater than 2 or less than -2. For each iteration, record the number of draws until you get the greater than $2\\sigma$ draw. The only output of your program should consist of a single histogram that summarizes the 1000 numbers of draws from each iteration. Write the program in the code block below. *Hint* while there are many ways to write this program, the most efficient route does not make use of `if` statements."
   ]
  },
  {
   "cell_type": "code",
   "execution_count": null,
   "metadata": {
    "vscode": {
     "languageId": "r"
    }
   },
   "outputs": [],
   "source": []
  }
 ],
 "metadata": {
  "kernelspec": {
   "display_name": "R",
   "language": "R",
   "name": "ir"
  },
  "language_info": {
   "codemirror_mode": "r",
   "file_extension": ".r",
   "mimetype": "text/x-r-source",
   "name": "R",
   "pygments_lexer": "r",
   "version": "4.0.4"
  }
 },
 "nbformat": 4,
 "nbformat_minor": 2
}
